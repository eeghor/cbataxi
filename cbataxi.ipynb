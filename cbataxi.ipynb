{
 "cells": [
  {
   "cell_type": "markdown",
   "metadata": {},
   "source": [
    "## Part 1: NYC taxi data\n",
    "\n",
    "### Basic Questions\n",
    "\n",
    "Note: all the answers here are based on a random 6,000-record sample I used to make this analysis quick on my laptop (under 2 minutes, to give you an idea). However, the codes have been verified to work with the full data or much larger samples. Naturally, a run on the full data will take considerably longer. You can run on any sample you want by specifying the sample_n argument for the method  *get_and_process_data*, for example\n",
    "\n",
    "> .get_and_process_data(sample_n=100000)\n",
    "\n",
    "1. What is the distribution of number of passengers per trip?\n",
    "    - A single passenger in a cab is the most typical. Run the codes to see all details.\n",
    "2. What is the distribution of payment_type? \n",
    "    - It's overwhelmingly credit cards or cash. What's more interesting though is that credit cards have overtaken cash already. Run the codes for more.\n",
    "3. What is the distribution of fare amount? \n",
    "    - 6.50 is the most common fare closely followed by 7.0. Run the codes to get the full picture.\n",
    "4. What is the distribution of tip amount? \n",
    "    - Tips are usually 1 dollar if not 0 (which may also mean an unreported tip). More on this below.\n",
    "5. What is the distribution of total amount?\n",
    "    - Most frequently people paid 9.50. Full distributions are produces by the codes below.\n",
    "6. What are top 5 busiest hours of the day? \n",
    "    - A preview: yes, sometime after work (6 pm) is the busiest. Run the codes to find out more.\n",
    "7. What are the top 10 busiest locations of the city?\n",
    "    - The 8th, 7th Avenues, airports.. Run the codes for more. \n",
    "8. Which trip has the highest standard deviation of travel time?\n",
    "    - Answer to this one varies a lot depending on the random sample. For example, last time I got an odd trip at Lincoln Tunnel access - probably due to a good change to get stuck in traffic around there.\n",
    "9. Which trip has most consistent fares?\n",
    "    - Similar considerations to question 8. Last time I got West 27th Street -> 8th Avenue. Run the code to see what you get.\n",
    "\n",
    "### Open Questions\n",
    "\n",
    "1. In what trips can you confidently use respective means as measures of central tendency\n",
    "to estimate fare, time taken, etc.\n",
    "\n",
    "    - Suppose it's about the fare. When we say \"confidently use\" we mean that knowing the mean fare should give us a resonably accurate sense of what this fare should be typically. Knowing what fare to expect helps make \"right\" decisions such as \"ok, I'm happy to pay about 10 usd to get to Brooklyn\". Or maybe \"it's 10 bucks which i think is too much, i'm catching metro for 2.50\". We'd use the means for the trips which cost roughly the same over the recorded 30 days, i.e. there were no clearly unusual charges (\"outliers\"). The reason is that outliers can strongly affect means. For example, let's say the fares for a trip recorded 10 times were about 1 dollar 9 times and then suddenly 20 dollars. The mean would be (9*1+20)/10=2.90 which is almost triple the typical ~1 dollar fare. Instead of means we'd use measures unaffected by extreme values, e.g. median which would be 1 dollar in this example - clearly, a much more accurate estimation.\n",
    "    \n",
    "2. Can we build a model to predict fare and tip amount given pick up and drop off\n",
    "coordinates, time of day and week?\n",
    "\n",
    "    - Of course. One of the simplest and yet completely usable models would be the one showing you some of measures mentioned in question 1. For example, we can put together a model that (based on the data we have) calculates median tip and mean fare for any  pair of the pickup and dropoff locations by time of day and week. Should these measures be accurate enough estimates (as discussed in question 1), we have a cheap and accurate for our purposes model on our hands. What if some pair of locations is not in the data? Then we introduce a straightforward extension: the model will now find the nearest locations for which the fare and tip amounts are avaiable, calculate the measures and produce these as the best estimates. To take this a notch higher, we can build a regression model that takes locations, time of day and week as variables.\n",
    "    \n",
    "3. If you were a taxi owner, how would you maximize your earnings in a day?\n",
    "\n",
    "    - While there would be multiple strategies to do this, we could stick with a \"greedy\" approach, i.e. maximising the earnings as we go. That is, once a trip is completed all we think about is how to make the next trip most profitable and don't care about more complex strategies that may involve giving up lucrative rides one time only to earn more another time. A straightforward approach to earning as much as possible would be then to do as many rides as possible. Which in turn would suggest heading to the nearest area where the highest demand is at a particular time. On a higher level, this can be framed as an optimisation problem when there's a function (we can call it a \"profit function\" in this case) describing earnings depending on the things  (variables) perceived important. For example, distance to the pickup spot, likely gas spend, trip distance, etc. We then figure out the values of these variables which will make the function spit out the highest value (profit).\n",
    "    \n",
    "4. If you were a taxi owner, how would you minimize your work time while retaining the\n",
    "average wages earned by a typical taxi in the dataset?\n",
    "\n",
    "    - This is a setup for another optimisation problem similar to the one mentioned in the previous question. The difference would be in the function we would care about. Specifically, the function would produce the work time depending on the factors potentially affecting this time (all of the available data points may have an effect, direct or indirect). Our goal would be to minimise the value the function produces. However, we also want to make sure the average wages are not getting worse. To ensure that, we put together another function that produces average wages when given all important inputs the wages are likely to depend on. This function must return either exactly the existing average wages (if we decide to stick to retain, literally) or higher wages which we might like even better. The former leads to a problem of minimising the work time under an equality constrain (we will only accept the inputs making the time function minimal if these don't stand in the way of the average wages function producing the exact same amount as now) while the latter involves an inequality constrain (the average wages need to be >= the current ones).\n",
    "    \n",
    "    \n",
    "5. If you run a taxi company with 10 taxis, how would you maximize your earnings?\n",
    "\n",
    "    - Having 10 taxis changes the perspective a bit. Now we can pay more attention to positioning each car in an optimal way which is not necessarily to be in the right time and place to get the biggest profit per car, especially if we start accounting for the competitors activities (what if some of our cars are also contributing to creating additional profit opportunities by interfering with the competitots plans?). Compared to question 3, now it's like you can have you cab in 10 different places if you wish. As for the strategies for each individual car, one option would be to once again do the \"greedy\" moves. But how exactly can we formalise all this as an optmisation problem?\n",
    "    \n",
    "    For instance, in a paper called  [Optimization of the Revenue of the New York City Taxi Service\n",
    "using Markov Decision Processes](https://www.google.com/url?sa=t&rct=j&q=&esrc=s&source=web&cd=1&ved=2ahUKEwjr38XU7eviAhVUSX0KHW1uA6EQFjAAegQIAhAC&url=https%3A%2F%2Fwww.thinkmind.org%2Fdownload.php%3Farticleid%3Ddata_analytics_2017_4_10_68005&usg=AOvVaw20xI__XMp6SKzHjUGRb70T) they present a metodology based on the Markov Decision Process approach. It's easy to apply to the Manhattan grid-like streets and involves a choice of 9 moves for a cab drives to decide on,  \n",
    "\n",
    "    > 7 8 9\n",
    "    \n",
    "    > 4 5 6\n",
    "    \n",
    "    > 1 2 3\n",
    "\n",
    "    where 4 means a move to the nearest *west* location, *2* is for the southern location, 9 is for the north-eastern, etc.\n",
    "    \n",
    "    Another interesting approach is to make use of the reinforcement learning framework as described here: [Optimize taxi driving strategies based on reinforcement learning](https://www.tandfonline.com/doi/abs/10.1080/13658816.2018.1458984)\n",
    "\n",
    "## Part 2: Open showcase\n",
    "After the presentation of you results for “NYC taxi data” case, you’ll have the opportunity to present your\n",
    "own work for 15 minutes.\n",
    "Please illustrate with an achievement of your choice (e.g. publication, participation in the community,\n",
    "portfolio, open repository, etc).\n",
    "\n",
    "- Introducing my Python package called mta that contains implementations of many Multi-Touch Attribution models. See the slides or better\n",
    "> pip3 install mta\n",
    "\n",
    "(docs: https://github.com/eeghor/mta)"
   ]
  },
  {
   "cell_type": "markdown",
   "metadata": {},
   "source": [
    "### Available Data\n",
    "\n",
    "**Note**: many column names begin with a white space!\n",
    "\n",
    "The **trip**-related data points are the following:\n",
    "\n",
    "* 'medallion',\n",
    "* ' hack_license',\n",
    "* ' vendor_id',\n",
    "* ' rate_code',\n",
    "* ' store_and_fwd_flag',\n",
    "* ' pickup_datetime',\n",
    "* ' dropoff_datetime',\n",
    "* ' passenger_count',\n",
    "* ' trip_time_in_secs',\n",
    "* ' trip_distance',\n",
    "* ' pickup_longitude',\n",
    "* ' pickup_latitude',\n",
    "* ' dropoff_longitude',\n",
    "* ' dropoff_latitude'\n",
    "\n",
    "and the **fare** CSV file contains the columns as below\n",
    "\n",
    "* 'medallion',\n",
    "* ' hack_license',\n",
    "* ' vendor_id',\n",
    "* ' pickup_datetime',\n",
    "* ' payment_type',\n",
    "* ' fare_amount',\n",
    "* ' surcharge',\n",
    "* ' mta_tax',\n",
    "* ' tip_amount',\n",
    "* ' tolls_amount',\n",
    "* ' total_amount'"
   ]
  },
  {
   "cell_type": "code",
   "execution_count": 54,
   "metadata": {},
   "outputs": [],
   "source": [
    "import pandas as pd\n",
    "import re\n",
    "import seaborn as sns\n",
    "import arrow\n",
    "import time\n",
    "from collections import Counter, defaultdict, namedtuple\n",
    "import geopandas as gpd\n",
    "import numpy as np\n",
    "from geopy.geocoders import Nominatim\n",
    "\n",
    "sns.set_style('whitegrid')\n",
    "sns.set(rc={'figure.figsize':(12,6)})\n",
    "\n",
    "nom = Nominatim(user_agent='app', timeout=10)"
   ]
  },
  {
   "cell_type": "code",
   "execution_count": 55,
   "metadata": {},
   "outputs": [],
   "source": [
    "class Taxi:\n",
    "    \n",
    "    \"\"\"\n",
    "    returns answers to all Basic Questions as a dictionary\n",
    "    \n",
    "    sample output:\n",
    "    \n",
    "    defaultdict(None,\n",
    "            {'trip_w_most_consistent_fares': {'trip': {'coords': '(40.733, -73.987)->(40.747, -73.977)',\n",
    "               'from_to': '(3rd Avenue)->(East 36th Street)'},\n",
    "              'fares': [6.5, 6.5]},\n",
    "             'passengers_per_trip': Counter({'1': 4278,\n",
    "                      '3': 230,\n",
    "                      '2': 782,\n",
    "                      '5': 358,\n",
    "                      '4': 118,\n",
    "                      '6': 234}),\n",
    "             'payment_types': Counter({'CRD': 160291,\n",
    "                      'CSH': 132520,\n",
    "                      'UNK': 192,\n",
    "                      'NOC': 216,\n",
    "                      'DIS': 94}),\n",
    "             'busiest_locations': [('(40.75, -73.991)', '7th Avenue', 30),\n",
    "              ('(40.751, -73.991)', 'West 34th Street', 18),\n",
    "              ('(40.75, -73.995)', '8th Avenue', 17),\n",
    "              ('(40.749, -73.992)', '7th Avenue', 16),\n",
    "              ('(40.75, -73.992)',\n",
    "               'Two Penn Plaza, 2, Tracks 11/12, Chelsea, Manhattan Community Board 4, Manhattan, New York County, NYC, New York, 10121, USA',\n",
    "               13)],\n",
    "             'trip_w_highest_std_traveltime': {'coords': '(40.769, -73.863)->(40.757, -73.993)',\n",
    "              'from_to': '(East Elmhurst, Queens, Queens County, NYC, New York, 11369, USA)->(8th Avenue)'},\n",
    "             'busiest_hrs': [(19, 767),\n",
    "              (20, 712),\n",
    "              (21, 711),\n",
    "              (18, 665),\n",
    "              (22, 643)],\n",
    "              'fare_amounts': Counter({'15': 4175,\n",
    "                      '9.5': 11507,\n",
    "                      '17': 2955,\n",
    "                      '11': 8757,\n",
    "                      '8': 13819,\n",
    "                      '4': 7060,\n",
    "                      '15.5': 3856,...}),\n",
    "             'tip_amounts': Counter({'0': 140517,\n",
    "                      '2': 14751,\n",
    "                      '2.12': 824,\n",
    "                      '1': 27279,\n",
    "                      '3.3': 1163,\n",
    "                      '10.4': 1009,\n",
    "                      '1.9': 3249,...}),\n",
    "            'total_amounts': Counter({'16': 2891,\n",
    "                      '12.5': 7810,\n",
    "                      '18': 2542,\n",
    "                      '12': 6175,\n",
    "                      '11.12': 802,\n",
    "                      '11.5': 5856,\n",
    "                      '5': 5065,\n",
    "                      '20.3': 799,...})\n",
    "              \n",
    "    \"\"\"\n",
    "    \n",
    "    def __init__(self, trip_file, fare_file):\n",
    "        \n",
    "        Location = namedtuple('Location', 'lat lng')\n",
    "        \n",
    "        self.EMP_STATE_BUILDING = Location(lat=40.7484, lng=-73.9856)\n",
    "        \n",
    "        self.ANSWERS = defaultdict()\n",
    "        \n",
    "        self.FILES = {'trips': 'data/' + trip_file,\n",
    "                     'fares': 'data/' + fare_file}\n",
    "        \n",
    "        self.COLS = {'latitude': [' pickup_latitude', ' dropoff_latitude'],\n",
    "                     'longitude': [' pickup_longitude', ' dropoff_longitude'],\n",
    "                     'useless': [' vendor_id', ' rate_code', ' store_and_fwd_flag', \n",
    "                                 ' hack_license', ' vendor_id', ' tolls_amount',\n",
    "                                 ' mta_tax', ' surcharge']}\n",
    "        \n",
    "    def fix_coords(self, c, lat_lng):\n",
    "        \n",
    "        \"\"\"\n",
    "        returns the original longitude or latitude rounded to 3 decimal digits if their values are not too far\n",
    "        from the Empire State Building; otherwise returns None\n",
    "        \n",
    "        we are being very generous here weeding out only the most remote locations (0 decimal places \n",
    "        i.e. something like 100km away) - \n",
    "        see https://en.wikipedia.org/wiki/Decimal_degrees\n",
    "        \n",
    "        important! we do the coordinate rounding because when it comes to discussing trips or locations, \n",
    "        the street-level accuracy appears to be more practically useful, e.g. \n",
    "        \"how much is it normally from Windmill St to Market St?\" is more useful to know than an answer to\n",
    "        \"what is the typical fare from 30 Windmill St to 241 Market St\"?\n",
    "        \"\"\"\n",
    "        \n",
    "        c_ = 'lng' if lat_lng == 'longitude' else 'lat' if lat_lng == 'latitude' else None\n",
    "        \n",
    "        if not c_:\n",
    "            raise Exception(f'{self.fix_coords.__name__}: argument lat_lng is neither latitude nor longitude!')\n",
    "            \n",
    "        try:\n",
    "            return round(float(c),3) if abs(float(c) - getattr(self.EMP_STATE_BUILDING, c_)) < 1 else None\n",
    "        except:\n",
    "            pass\n",
    "        \n",
    "    def get_and_process_data(self, show_counts=False, sample_n=None):\n",
    "        \n",
    "        \"\"\"\n",
    "        load the data; pick a random sample to use if needed; get rid of the columns we won't ever use \n",
    "        to answer the questions\n",
    "        \"\"\"\n",
    "        \n",
    "        self.trips = pd.read_csv(self.FILES['trips'], dtype=str)\n",
    "        self.trips = self.trips.drop([c for c in self.trips.columns if c in self.COLS['useless']], axis=1)\n",
    "        \n",
    "        if sample_n:\n",
    "            self.trips = self.trips.sample(n=sample_n)\n",
    "        \n",
    "        self.fares = pd.read_csv(self.FILES['fares'], dtype=str)\n",
    "        self.fares = self.fares.drop([c for c in self.fares.columns if c in self.COLS['useless']], axis=1)\n",
    "        \n",
    "        if sample_n:\n",
    "            self.fares = self.fares[self.fares['medallion'].isin(self.trips['medallion']) & \n",
    "                                   self.fares[' pickup_datetime'].isin(self.trips[' pickup_datetime'])]\n",
    "        \n",
    "        if show_counts:\n",
    "            \n",
    "            print(f'cabs: {self.trips[\"medallion\"].nunique():,}')\n",
    "            print(f'drivers: {self.trips[\" hack_license\"].nunique():,}')\n",
    "            # note that the date format is 2013-04-04 18:47:45\n",
    "            print(f'days: {self.trips[\" pickup_datetime\"].apply(lambda x: arrow.get(str(x), \"YYYY-MM-DD\")).nunique():,}')   \n",
    "        \n",
    "        for col_lst in 'longitude latitude'.split():\n",
    "                  self.trips[self.COLS[col_lst]] = self.trips[self.COLS[col_lst]] \\\n",
    "                                                          .applymap(lambda x: self.fix_coords(c=x, lat_lng=col_lst))\n",
    "        \n",
    "        for s in 'pickup dropoff'.split():\n",
    "                  \n",
    "            avail_mask = self.trips[f' {s}_longitude'].notnull() & self.trips[f' {s}_latitude'].notnull()\n",
    "            self.trips[f'{s}_loc'] = '(' + self.trips[f' {s}_latitude'].astype(str) + ', ' + self.trips[f' {s}_longitude'].astype(str) + ')'\n",
    "            self.trips[f'{s}_loc'] = self.trips[f'{s}_loc'].where(avail_mask, None)\n",
    "                  \n",
    "        self.trips['trip_'] = self.trips['pickup_loc'] + '->' + self.trips['dropoff_loc']\n",
    "                  \n",
    "        self.trips = self.trips.drop(self.COLS['latitude'] + self.COLS['longitude'], axis=1)\n",
    "        \n",
    "        return self\n",
    "                  \n",
    "    def get_passengers_per_trip(self):\n",
    "        \n",
    "        \"\"\"\n",
    "        returns a dictionary maps the number of passengeers to trip counts    \n",
    "        \"\"\"\n",
    "                  \n",
    "        # how do we define a trip in this case? \"a cab with numberplate XXXX picked someone up at time TTTT\" - that's a trip\n",
    "        # this defines a trip in a unique way if we reasonably sssume that a specific cab can't do multiple pickupos at\n",
    "        # the same time - if we do see that happening it's probably due to an error in data\n",
    "                  \n",
    "        TRIP_ID = ['medallion', ' pickup_datetime']\n",
    "                  \n",
    "        self.ANSWERS['passengers_per_trip'] = Counter(self.trips[TRIP_ID + [' passenger_count']] \\\n",
    "                                                              .drop_duplicates(TRIP_ID) \\\n",
    "                                                              .groupby(TRIP_ID) \\\n",
    "                                                              .sum()[' passenger_count'])\n",
    "        return self\n",
    "                  \n",
    "    def get_payment_types(self):\n",
    "        \n",
    "        \"\"\"\n",
    "        returns a dictionary maps payment types to record counts    \n",
    "        \"\"\"\n",
    "                  \n",
    "        TRIP_ID = ['medallion', ' pickup_datetime']\n",
    "                  \n",
    "        self.ANSWERS['payment_types'] = Counter(self.fares.drop_duplicates(TRIP_ID)[' payment_type'] \\\n",
    "                                                              .tolist())\n",
    "        return self\n",
    "                  \n",
    "    def get_busiest_hours(self, hrs=5, dropoffs=True):\n",
    "                  \n",
    "        \"\"\"\n",
    "        return the top hrs busiest hours\n",
    "        \n",
    "        what is \"busiest\"? let's say it's when we see the most pickups or dropoffs; we could just stick to \n",
    "        pickups as that would reflect both the drivers and clients perspective. \n",
    "        However, dropoffs could matter to non-taxi drivers (traffic jams).\n",
    "        Hence add an option to pick either pickups or both pickups and dropoffs.\n",
    "        \n",
    "        \"\"\"\n",
    "        \n",
    "        relevant_hours = self.trips[' pickup_datetime'].dropna().apply(lambda x: arrow.get(x).hour).tolist()\n",
    "        \n",
    "        if dropoffs:\n",
    "                  relevant_hours += self.trips[' dropoff_datetime'].dropna().apply(lambda x: arrow.get(x).hour).tolist()\n",
    "                  \n",
    "        self.ANSWERS['busiest_hrs'] = Counter(relevant_hours).most_common(hrs)\n",
    "                  \n",
    "        return self\n",
    "                  \n",
    "    def get_busiest_locations(self, n=5):\n",
    "                  \n",
    "        \"\"\"\n",
    "        return top n busiest location\n",
    "        \"\"\"\n",
    "                  \n",
    "        # busiest locations will be those where there are most pickups and/or dropoffs \n",
    "\n",
    "        self.ANSWERS['busiest_locations'] = [(loc, self.coords_to_street(loc), count) for loc, count in sorted([(k, v) for k,v in \n",
    "                                                    {**Counter(self.trips['pickup_loc'].dropna()), \n",
    "                                                     **Counter(self.trips['dropoff_loc'].dropna())}.items()], \n",
    "                                                       key=lambda x: x[1], reverse=True)[:n]]\n",
    "        return self\n",
    "                  \n",
    "    def get_most_unpredictable_trip(self):\n",
    "                  \n",
    "        \"\"\"\n",
    "        return a trip with the most varying (highest standard deviation) travel time\n",
    "        \"\"\"\n",
    "                  \n",
    "        ss = self.trips[['trip_', ' trip_time_in_secs']].dropna(subset=['trip_'])\n",
    "        ss[' trip_time_in_secs'] = ss[' trip_time_in_secs'].astype(float)\n",
    "                  \n",
    "        ind = ss.groupby(['trip_']).std(ddof=0).idxmax().tolist()[0]\n",
    "                  \n",
    "        self.ANSWERS['trip_w_highest_std_traveltime'] = {'coords': ind,\n",
    "                                                            'from_to': '->'.join(['(' + self.coords_to_street(loc) + ')' \n",
    "                                                                                       for loc in ind.split('->')])}\n",
    "                  \n",
    "        return self\n",
    "    \n",
    "    def coords_to_street(self, coord):\n",
    "                  \n",
    "        \"\"\"\n",
    "        returns a street level description given location coordinates\n",
    "        \"\"\"\n",
    "        coord = re.sub(r'[\\(\\)\\[\\]\\s]+','', str(coord))\n",
    "        \n",
    "        try:\n",
    "            res = nom.reverse(coord)\n",
    "        except:\n",
    "            print(f'can\\'t figure out address for location ({coord})!')\n",
    "            return None\n",
    "                  \n",
    "        if res.raw['address'].get('road', None):\n",
    "            return res.raw['address']['road']\n",
    "        else:\n",
    "            return res.address\n",
    "        \n",
    "    \n",
    "    def get_payment_breakdown_distros(self):\n",
    "        \n",
    "        \"\"\"\n",
    "        returns a dictionary that maps \n",
    "        \n",
    "            fare amount\n",
    "            tip amount\n",
    "            total amount\n",
    "            \n",
    "        to payment counts\n",
    "\n",
    "        \"\"\"\n",
    "                  \n",
    "        # we don't need all columns here, just these:\n",
    "        cols = [' fare_amount', ' tip_amount', ' total_amount']\n",
    "        \n",
    "        for c in cols:\n",
    "            self.ANSWERS[c.strip() + 's'] = Counter(self.fares[c].dropna())\n",
    "        \n",
    "        return self\n",
    "    \n",
    "    def get_most_consistent_trip(self):\n",
    "                  \n",
    "        \"\"\"\n",
    "        which trip has 'most consistent fares'? Firstly, what is a trip here? - it's a pair of locations (pickup -> dropoff);\n",
    "        for each of such trips we'd like to find ot how much the fares vary and then select the trip with the least varying fare\n",
    "        \"\"\"\n",
    "        \n",
    "        g = self.trips[['medallion', ' pickup_datetime', 'trip_']] \\\n",
    "                  .join(self.fares[['medallion', ' pickup_datetime', ' total_amount']] \\\n",
    "                        .set_index(['medallion', ' pickup_datetime']),\n",
    "                                        on=['medallion', ' pickup_datetime'], how='inner').reset_index()[['trip_', ' total_amount']]\n",
    "        \n",
    "        print(f'unique trips with fares: {g[\"trip_\"].nunique():,}')\n",
    "        \n",
    "        g[' total_amount'] = g[' total_amount'].astype(float)\n",
    "        \n",
    "        # get the counts of trips; it makes more sense to look into fare variability for the trips done more than once\n",
    "        cs = g.groupby(['trip_']).count()\n",
    "                  \n",
    "        tps = set(cs[cs[' total_amount'] > 1].reset_index()['trip_'])\n",
    "        \n",
    "        print(f'trips done more than once: {len(tps):,}')\n",
    "        \n",
    "        fare_stds = g[g['trip_'].isin(tps)].groupby('trip_').std()\n",
    "        t = fare_stds[' total_amount'].idxmin()\n",
    "        t_fares = g[g['trip_'] == t][' total_amount'].tolist()\n",
    "              \n",
    "        self.ANSWERS['trip_w_most_consistent_fares'] = {'trip': {'coords': t,\n",
    "                                                                 'from_to': '->'.join(['(' + self.coords_to_street(loc) + ')' \n",
    "                                                                                       for loc in t.split('->')])},\n",
    "                                                        'fares': t_fares}\n",
    "              \n",
    "        return self  "
   ]
  },
  {
   "cell_type": "code",
   "execution_count": 56,
   "metadata": {},
   "outputs": [
    {
     "name": "stdout",
     "output_type": "stream",
     "text": [
      "unique trips with fares: 5,868\n",
      "trips done more than once: 11\n",
      "Index(['medallion', ' pickup_datetime', ' payment_type', ' fare_amount',\n",
      "       ' tip_amount', ' total_amount'],\n",
      "      dtype='object')\n",
      "elapsed time: 1 m 50 s\n"
     ]
    }
   ],
   "source": [
    "if __name__ == '__main__':\n",
    "    \n",
    "    t0 = time.time()\n",
    "    tx = Taxi(trip_file='trip_data_4.csv', fare_file='trip_fare_4.csv') \\\n",
    "                        .get_and_process_data(sample_n=6000) \\\n",
    "                        .get_most_consistent_trip() \\\n",
    "                        .get_passengers_per_trip() \\\n",
    "                        .get_payment_types() \\\n",
    "                        .get_busiest_locations() \\\n",
    "                        .get_most_unpredictable_trip() \\\n",
    "                        .get_busiest_hours() \\\n",
    "                        .get_payment_breakdown_distros()\n",
    "                            \n",
    "    t1 = time.time()\n",
    "    m, s = divmod(t1-t0, 60)\n",
    "    print(f'elapsed time: {m:.0f} m {s:.0f} s')"
   ]
  },
  {
   "cell_type": "markdown",
   "metadata": {},
   "source": [
    "#### Answers"
   ]
  },
  {
   "cell_type": "code",
   "execution_count": 66,
   "metadata": {},
   "outputs": [],
   "source": [
    "# uncomment and run; why is it commented out? because of a large output. you'll see what i mean\n",
    "# tx.ANSWERS"
   ]
  },
  {
   "cell_type": "markdown",
   "metadata": {},
   "source": [
    "#### Passengers per Trip"
   ]
  },
  {
   "cell_type": "code",
   "execution_count": 57,
   "metadata": {},
   "outputs": [
    {
     "data": {
      "text/plain": [
       "<matplotlib.axes._subplots.AxesSubplot at 0x16acc0400>"
      ]
     },
     "execution_count": 57,
     "metadata": {},
     "output_type": "execute_result"
    },
    {
     "data": {
      "image/png": "[encoded data removed]",
      "text/plain": [
       "<Figure size 864x432 with 1 Axes>"
      ]
     },
     "metadata": {},
     "output_type": "display_data"
    }
   ],
   "source": [
    "sns.barplot(data=pd.DataFrame.from_dict(tx.ANSWERS['passengers_per_trip'], orient='index') \\\n",
    "            .reset_index().rename(columns={'index':'passengers', 0: 'count'}), x='passengers', y='count')"
   ]
  },
  {
   "cell_type": "markdown",
   "metadata": {},
   "source": [
    "#### Busiest Hours"
   ]
  },
  {
   "cell_type": "code",
   "execution_count": 58,
   "metadata": {},
   "outputs": [
    {
     "data": {
      "text/plain": [
       "<matplotlib.axes._subplots.AxesSubplot at 0x1a41d4f28>"
      ]
     },
     "execution_count": 58,
     "metadata": {},
     "output_type": "execute_result"
    },
    {
     "data": {
      "image/png": "[encoded data removed]",
      "text/plain": [
       "<Figure size 864x432 with 1 Axes>"
      ]
     },
     "metadata": {},
     "output_type": "display_data"
    }
   ],
   "source": [
    "sns.barplot(data=pd.DataFrame.from_records(tx.ANSWERS['busiest_hrs']) \\\n",
    "            .rename(columns={0: 'hour', 1: 'count'}), x='hour', y='count')"
   ]
  },
  {
   "cell_type": "markdown",
   "metadata": {},
   "source": [
    "#### Payment Types"
   ]
  },
  {
   "cell_type": "code",
   "execution_count": 59,
   "metadata": {},
   "outputs": [
    {
     "data": {
      "text/plain": [
       "<matplotlib.axes._subplots.AxesSubplot at 0x1b5562f60>"
      ]
     },
     "execution_count": 59,
     "metadata": {},
     "output_type": "execute_result"
    },
    {
     "data": {
      "image/png": "[encoded data removed]",
      "text/plain": [
       "<Figure size 864x432 with 1 Axes>"
      ]
     },
     "metadata": {},
     "output_type": "display_data"
    }
   ],
   "source": [
    "sns.barplot(data=pd.DataFrame.from_dict(tx.ANSWERS['payment_types'], orient='index') \\\n",
    "            .reset_index().rename(columns={'index':'payment_type', 0: 'count'}),\n",
    "x='payment_type', y='count')"
   ]
  },
  {
   "cell_type": "markdown",
   "metadata": {},
   "source": [
    "#### Tips"
   ]
  },
  {
   "cell_type": "code",
   "execution_count": 60,
   "metadata": {},
   "outputs": [
    {
     "data": {
      "text/plain": [
       "<matplotlib.axes._subplots.AxesSubplot at 0x19d420828>"
      ]
     },
     "execution_count": 60,
     "metadata": {},
     "output_type": "execute_result"
    },
    {
     "data": {
      "image/png": "[encoded data removed]",
      "text/plain": [
       "<Figure size 864x432 with 1 Axes>"
      ]
     },
     "metadata": {},
     "output_type": "display_data"
    }
   ],
   "source": [
    "sns.distplot(sorted(tx.ANSWERS['tip_amounts'].values()))"
   ]
  },
  {
   "cell_type": "markdown",
   "metadata": {},
   "source": [
    "Some \\\\$100,000+ tips here. Interesting if true. What if we take a closer look at the more typical ones like \\\\$10 or under:"
   ]
  },
  {
   "cell_type": "code",
   "execution_count": 61,
   "metadata": {},
   "outputs": [
    {
     "data": {
      "text/plain": [
       "<matplotlib.axes._subplots.AxesSubplot at 0x18e6fbb70>"
      ]
     },
     "execution_count": 61,
     "metadata": {},
     "output_type": "execute_result"
    },
    {
     "data": {
      "image/png": "[encoded data removed]",
      "text/plain": [
       "<Figure size 864x432 with 1 Axes>"
      ]
     },
     "metadata": {},
     "output_type": "display_data"
    }
   ],
   "source": [
    "sns.distplot([v for v in sorted(tx.ANSWERS['tip_amounts'].values()) if v <=10])"
   ]
  },
  {
   "cell_type": "markdown",
   "metadata": {},
   "source": [
    "#### Fares"
   ]
  },
  {
   "cell_type": "code",
   "execution_count": 62,
   "metadata": {},
   "outputs": [
    {
     "data": {
      "text/plain": [
       "<matplotlib.axes._subplots.AxesSubplot at 0x18610e550>"
      ]
     },
     "execution_count": 62,
     "metadata": {},
     "output_type": "execute_result"
    },
    {
     "data": {
      "image/png": "[encoded data removed]",
      "text/plain": [
       "<Figure size 864x432 with 1 Axes>"
      ]
     },
     "metadata": {},
     "output_type": "display_data"
    }
   ],
   "source": [
    "sns.distplot(sorted(tx.ANSWERS['fare_amounts'].values()))"
   ]
  },
  {
   "cell_type": "markdown",
   "metadata": {},
   "source": [
    "Like with tips, let's look at the popular ones:"
   ]
  },
  {
   "cell_type": "code",
   "execution_count": 63,
   "metadata": {},
   "outputs": [
    {
     "data": {
      "text/plain": [
       "<matplotlib.axes._subplots.AxesSubplot at 0x1d7d287f0>"
      ]
     },
     "execution_count": 63,
     "metadata": {},
     "output_type": "execute_result"
    },
    {
     "data": {
      "image/png": "[encoded data removed]",
      "text/plain": [
       "<Figure size 864x432 with 1 Axes>"
      ]
     },
     "metadata": {},
     "output_type": "display_data"
    }
   ],
   "source": [
    "sns.distplot([v for v in sorted(tx.ANSWERS['tip_amounts'].values()) if v <=60])"
   ]
  },
  {
   "cell_type": "markdown",
   "metadata": {},
   "source": [
    "#### Totals"
   ]
  },
  {
   "cell_type": "code",
   "execution_count": 64,
   "metadata": {},
   "outputs": [
    {
     "data": {
      "text/plain": [
       "<matplotlib.axes._subplots.AxesSubplot at 0x1cab95c18>"
      ]
     },
     "execution_count": 64,
     "metadata": {},
     "output_type": "execute_result"
    },
    {
     "data": {
      "image/png": "[encoded data removed]",
      "text/plain": [
       "<Figure size 864x432 with 1 Axes>"
      ]
     },
     "metadata": {},
     "output_type": "display_data"
    }
   ],
   "source": [
    "sns.distplot([v for v in sorted(tx.ANSWERS['total_amounts'].values()) if v <=60])"
   ]
  }
 ],
 "metadata": {
  "kernelspec": {
   "display_name": "Python 3",
   "language": "python",
   "name": "python3"
  },
  "language_info": {
   "codemirror_mode": {
    "name": "ipython",
    "version": 3
   },
   "file_extension": ".py",
   "mimetype": "text/x-python",
   "name": "python",
   "nbconvert_exporter": "python",
   "pygments_lexer": "ipython3",
   "version": "3.7.3"
  }
 },
 "nbformat": 4,
 "nbformat_minor": 2
}
