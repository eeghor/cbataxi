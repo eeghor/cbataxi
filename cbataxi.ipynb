{
 "cells": [
  {
   "cell_type": "markdown",
   "metadata": {},
   "source": [
    "a.\tWhat is the distribution of number of passengers per trip?\n",
    "b.\tWhat is the distribution of payment_type?\n",
    "c.\tWhat is the distribution of fare amount?\n",
    "d.\tWhat is the distribution of tip amount?\n",
    "e.\tWhat is the distribution of total amount?\n",
    "f.\tWhat are top 5 busiest hours of the day?\n",
    "g.\tWhat are the top 10 busiest locations of the city?\n",
    "h.\tWhich trip has the highest standard deviation of travel time?\n",
    "i.\tWhich trip has most consistent fares?"
   ]
  },
  {
   "cell_type": "code",
   "execution_count": null,
   "metadata": {},
   "outputs": [],
   "source": [
    "import pandas as pd\n",
    "import re\n",
    "import seaborn as sns\n",
    "from collections import Counter\n",
    "\n",
    "sns.set_style(\"whitegrid\")"
   ]
  },
  {
   "cell_type": "code",
   "execution_count": null,
   "metadata": {},
   "outputs": [],
   "source": [
    "class Taxi:\n",
    "    \n",
    "    def __init__(self, trip_file, fare_file):\n",
    "        \n",
    "        self.trip_file = trip_file\n",
    "        self.fare_file = fare_file\n",
    "        trip_cols = [c.strip() for c in pd.read_csv('data/' + trip_file, nrows=0).columns]\n",
    "        fare_cols = [c.strip() for c in pd.read_csv('data/' + fare_file, nrows=0).columns]\n",
    "        \n",
    "#         self.trips = pd.read_csv('data/' + trip_file)\n",
    "        \n",
    "    def passengers_per_trip(self):\n",
    "        \n",
    "        times = set()\n",
    "        \n",
    "        p = pd.read_csv('data/' + self.trip_file, usecols=['medallion', ' pickup_datetime', ' passenger_count'])\n",
    "        \n",
    "        return p.groupby(['medallion', ' pickup_datetime']).sum().values\n",
    "    \n",
    "    def faretype_per_trip(self):\n",
    "        \n",
    "        times = set()\n",
    "        \n",
    "        p = pd.read_csv('data/' + self.fare_file, usecols=['medallion', ' pickup_datetime', ' payment_type'])\n",
    "        \n",
    "        return p.groupby(['medallion', ' pickup_datetime']).sum().values"
   ]
  },
  {
   "cell_type": "code",
   "execution_count": null,
   "metadata": {},
   "outputs": [],
   "source": [
    "if __name__ == '__main__':\n",
    "    \n",
    "    tx = Taxi(trip_file='trip_data_4.csv', fare_file='trip_fare_4.csv')\n",
    "    c = tx.passengers_per_trip()\n",
    "    f = tx.faretype_per_trip()"
   ]
  },
  {
   "cell_type": "code",
   "execution_count": null,
   "metadata": {},
   "outputs": [],
   "source": [
    "sns.distplot(c, kde=False, color='green')"
   ]
  }
 ],
 "metadata": {
  "kernelspec": {
   "display_name": "Python 3",
   "language": "python",
   "name": "python3"
  },
  "language_info": {
   "codemirror_mode": {
    "name": "ipython",
    "version": 3
   },
   "file_extension": ".py",
   "mimetype": "text/x-python",
   "name": "python",
   "nbconvert_exporter": "python",
   "pygments_lexer": "ipython3",
   "version": "3.7.3"
  }
 },
 "nbformat": 4,
 "nbformat_minor": 2
}
